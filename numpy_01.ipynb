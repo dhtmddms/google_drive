{
  "nbformat": 4,
  "nbformat_minor": 0,
  "metadata": {
    "colab": {
      "name": "numpy_01.ipynb",
      "provenance": [],
      "authorship_tag": "ABX9TyPJn8MaRqfUavZS6REte5SH",
      "include_colab_link": true
    },
    "kernelspec": {
      "name": "python3",
      "display_name": "Python 3"
    },
    "language_info": {
      "name": "python"
    }
  },
  "cells": [
    {
      "cell_type": "markdown",
      "metadata": {
        "id": "view-in-github",
        "colab_type": "text"
      },
      "source": [
        "<a href=\"https://colab.research.google.com/github/dhtmddms/google_drive/blob/main/numpy_01.ipynb\" target=\"_parent\"><img src=\"https://colab.research.google.com/assets/colab-badge.svg\" alt=\"Open In Colab\"/></a>"
      ]
    },
    {
      "cell_type": "markdown",
      "source": [
        "# 파이썬 라이브러리 설치 방법(vs R)\n",
        "- 파이썬 라이브러리는 설치 코드에서 실행하는게 아님\n",
        "- 터미널에서 설치\n",
        "- 방법 1. conda 설치 -> 아나콘다 설치 후, conda 설치\n",
        "\t\t-> conda에서 라이브러리 관리 (근데 버전 업데이트가 좀 느림)\n",
        "- 방법 2 . pip 설치 -> 아나콘다 설치 안 함 / 파이썬만 설치"
      ],
      "metadata": {
        "id": "dXV_OtYxUW9A"
      }
    },
    {
      "cell_type": "markdown",
      "source": [
        "# NumPy 라이브러리 불러오기"
      ],
      "metadata": {
        "id": "1x7qTKVKTpIP"
      }
    },
    {
      "cell_type": "code",
      "source": [
        "import numpy as np\n",
        "\n",
        "print(np.__version__)"
      ],
      "metadata": {
        "colab": {
          "base_uri": "https://localhost:8080/"
        },
        "id": "TQDjuV9OTaiT",
        "outputId": "4664d75d-8fc1-41e7-dd91-d2f6764a9af9"
      },
      "execution_count": null,
      "outputs": [
        {
          "output_type": "stream",
          "name": "stdout",
          "text": [
            "1.21.5\n"
          ]
        }
      ]
    },
    {
      "cell_type": "markdown",
      "source": [
        "# 배열로 변환\n",
        "- 1부터 10까지 리스트를 만든다.\n",
        "- numpy 배열로 변환해서 저장한다."
      ],
      "metadata": {
        "id": "BEUMjLNYULaJ"
      }
    },
    {
      "cell_type": "code",
      "source": [
        "temp = [1, 2, 3, 4, 5, 6, 7, 8, 9, 10]\n",
        "arr = np.array(temp)\n",
        "print(arr)\n",
        "print(temp)"
      ],
      "metadata": {
        "colab": {
          "base_uri": "https://localhost:8080/"
        },
        "id": "w2mBUPu2Uh-B",
        "outputId": "c6ca149b-d54c-4dbe-f179-343a4c210fbc"
      },
      "execution_count": null,
      "outputs": [
        {
          "output_type": "stream",
          "name": "stdout",
          "text": [
            "[ 1  2  3  4  5  6  7  8  9 10]\n",
            "[1, 2, 3, 4, 5, 6, 7, 8, 9, 10]\n"
          ]
        }
      ]
    },
    {
      "cell_type": "code",
      "source": [
        "print(type(temp))\n",
        "print(type(arr))"
      ],
      "metadata": {
        "colab": {
          "base_uri": "https://localhost:8080/"
        },
        "id": "pjjx3BLbVFb7",
        "outputId": "1d36650b-7ac5-4ab0-eaf2-486cbdf37692"
      },
      "execution_count": null,
      "outputs": [
        {
          "output_type": "stream",
          "name": "stdout",
          "text": [
            "<class 'list'>\n",
            "<class 'numpy.ndarray'>\n"
          ]
        }
      ]
    },
    {
      "cell_type": "markdown",
      "source": [
        "- arr 배열 숫자 5 출력"
      ],
      "metadata": {
        "id": "Ef_ZSxjRVWOr"
      }
    },
    {
      "cell_type": "code",
      "source": [
        "arr[4]"
      ],
      "metadata": {
        "colab": {
          "base_uri": "https://localhost:8080/"
        },
        "id": "WlH_CLW2VKd4",
        "outputId": "c99ec7d0-b648-4ebe-e726-3a1ef588b945"
      },
      "execution_count": null,
      "outputs": [
        {
          "output_type": "execute_result",
          "data": {
            "text/plain": [
              "5"
            ]
          },
          "metadata": {},
          "execution_count": 11
        }
      ]
    },
    {
      "cell_type": "markdown",
      "source": [
        "- numpy를 사용하여 기초 통계 함수를 사용한다."
      ],
      "metadata": {
        "id": "T3pRz2XoVcpM"
      }
    },
    {
      "cell_type": "code",
      "source": [
        "np.mean(arr)\n",
        "np.sum(arr)\n",
        "np.median(arr)\n",
        "np.std(arr)"
      ],
      "metadata": {
        "colab": {
          "base_uri": "https://localhost:8080/"
        },
        "id": "pqL4rpgFVhuq",
        "outputId": "10a195b8-7421-4d11-f5a7-08409a690949"
      },
      "execution_count": null,
      "outputs": [
        {
          "output_type": "execute_result",
          "data": {
            "text/plain": [
              "2.8722813232690143"
            ]
          },
          "metadata": {},
          "execution_count": 15
        }
      ]
    },
    {
      "cell_type": "markdown",
      "source": [
        "# 사칙연산"
      ],
      "metadata": {
        "id": "XY96fKCZV8lO"
      }
    },
    {
      "cell_type": "code",
      "source": [
        "math_score = [90, 80,88]\n",
        "english_score = [80, 70, 90]\n",
        "\n",
        "total_score = math_score + english_score\n",
        "total_score"
      ],
      "metadata": {
        "colab": {
          "base_uri": "https://localhost:8080/"
        },
        "id": "GZXmGvnwWAuj",
        "outputId": "1178279e-5879-4b8d-d043-5a8eaf09cd3f"
      },
      "execution_count": null,
      "outputs": [
        {
          "output_type": "execute_result",
          "data": {
            "text/plain": [
              "[90, 80, 88, 80, 70, 90]"
            ]
          },
          "metadata": {},
          "execution_count": 19
        }
      ]
    },
    {
      "cell_type": "code",
      "source": [
        "math_score = [90, 80,88]\n",
        "english_score = [80, 70, 90]\n",
        "\n",
        "math_arr = np.array(math_score)\n",
        "english_arr = np.array(english_score)\n",
        "\n",
        "total_score = math_arr + english_arr\n",
        "total_score"
      ],
      "metadata": {
        "colab": {
          "base_uri": "https://localhost:8080/"
        },
        "id": "AtcLLcjiWUOH",
        "outputId": "32c6b59e-befd-43a1-b937-222b12b157d5"
      },
      "execution_count": null,
      "outputs": [
        {
          "output_type": "execute_result",
          "data": {
            "text/plain": [
              "array([170, 150, 178])"
            ]
          },
          "metadata": {},
          "execution_count": 16
        }
      ]
    },
    {
      "cell_type": "code",
      "source": [
        "np.min(total_score)"
      ],
      "metadata": {
        "colab": {
          "base_uri": "https://localhost:8080/"
        },
        "id": "aYRYt31SWmk2",
        "outputId": "05f796a9-1dc1-43ac-e516-5d0844efe065"
      },
      "execution_count": null,
      "outputs": [
        {
          "output_type": "execute_result",
          "data": {
            "text/plain": [
              "150"
            ]
          },
          "metadata": {},
          "execution_count": 17
        }
      ]
    },
    {
      "cell_type": "code",
      "source": [
        "math_scores = [2, 3, 4]\n",
        "english_scores = [1, 2, 3]\n",
        "\n",
        "math_arr = np.array(math_scores)\n",
        "english_arr = np.array(english_scores)\n",
        "\n",
        "# 사칙연산\n",
        "print(\"덧셈:\", np.add(math_arr, english_arr))\n",
        "print(\"뺄셈:\", np.subtract(math_arr, english_arr))\n",
        "print(\"곱셈:\", np.multiply(math_arr, english_arr))\n",
        "print(\"나눗셈:\", np.divide(math_arr, english_arr))\n",
        "print(\"거듭제곱:\", np.power(math_arr, english_arr))"
      ],
      "metadata": {
        "colab": {
          "base_uri": "https://localhost:8080/"
        },
        "id": "2ClkXdnyXVQ8",
        "outputId": "75765859-9634-4152-f402-fe1a9dae998e"
      },
      "execution_count": null,
      "outputs": [
        {
          "output_type": "stream",
          "name": "stdout",
          "text": [
            "덧셈: [3 5 7]\n",
            "뺄셈: [1 1 1]\n",
            "곱셈: [ 2  6 12]\n",
            "나눗셈: [2.         1.5        1.33333333]\n",
            "거듭제곱: [ 2  9 64]\n"
          ]
        }
      ]
    },
    {
      "cell_type": "markdown",
      "source": [
        "## 배열의 생성\n",
        "- 0차원부터 3차원까지 생성하는 방법"
      ],
      "metadata": {
        "id": "f-FMxVL9YWMA"
      }
    },
    {
      "cell_type": "code",
      "source": [
        "temp_arr = np.array(24)\n",
        "temp_arr\n",
        "print(type(temp_arr))\n",
        "print(temp_arr.shape)"
      ],
      "metadata": {
        "colab": {
          "base_uri": "https://localhost:8080/"
        },
        "id": "q2iy8XbNYZ3h",
        "outputId": "23779123-bcce-4f28-b80c-078f8511374e"
      },
      "execution_count": null,
      "outputs": [
        {
          "output_type": "stream",
          "name": "stdout",
          "text": [
            "<class 'numpy.ndarray'>\n",
            "()\n"
          ]
        }
      ]
    },
    {
      "cell_type": "code",
      "source": [
        "# 1차원 배열\n",
        "temp_arr = np.array([1,2,3])\n",
        "print(temp_arr)\n",
        "print(type(temp_arr))\n",
        "print(temp_arr.shape)\n",
        "print(temp_arr.ndim)"
      ],
      "metadata": {
        "colab": {
          "base_uri": "https://localhost:8080/"
        },
        "id": "CjLJC5zvZEWP",
        "outputId": "20059f04-341d-423c-e65b-a1905b8b8617"
      },
      "execution_count": null,
      "outputs": [
        {
          "output_type": "stream",
          "name": "stdout",
          "text": [
            "[1 2 3]\n",
            "<class 'numpy.ndarray'>\n",
            "(3,)\n",
            "1\n"
          ]
        }
      ]
    },
    {
      "cell_type": "code",
      "source": [
        "# 2차원 배열\n",
        "temp_arr = np.array([[1,2,3],[4,5,6]])\n",
        "print(temp_arr)\n",
        "print(type(temp_arr))\n",
        "print(temp_arr.shape)\n",
        "print(temp_arr.ndim)"
      ],
      "metadata": {
        "colab": {
          "base_uri": "https://localhost:8080/"
        },
        "id": "3ukVi5gjZhHC",
        "outputId": "faa82548-4cd2-499c-acbc-46daa3a91852"
      },
      "execution_count": null,
      "outputs": [
        {
          "output_type": "stream",
          "name": "stdout",
          "text": [
            "[[1 2 3]\n",
            " [4 5 6]]\n",
            "<class 'numpy.ndarray'>\n",
            "(2, 3)\n",
            "2\n"
          ]
        }
      ]
    },
    {
      "cell_type": "code",
      "source": [
        "# 3차원 배열\n",
        "temp_arr = np.array([[[1,2,3],[4,5,6]],[[1,2,3],[4,5,6]]])\n",
        "print(temp_arr)\n",
        "print(type(temp_arr))\n",
        "print(temp_arr.shape)\n",
        "print(temp_arr.ndim)"
      ],
      "metadata": {
        "colab": {
          "base_uri": "https://localhost:8080/"
        },
        "id": "j-peSE_MaPC9",
        "outputId": "73c29260-dbbc-48cc-f308-44c37c71019e"
      },
      "execution_count": null,
      "outputs": [
        {
          "output_type": "stream",
          "name": "stdout",
          "text": [
            "[[[1 2 3]\n",
            "  [4 5 6]]\n",
            "\n",
            " [[1 2 3]\n",
            "  [4 5 6]]]\n",
            "<class 'numpy.ndarray'>\n",
            "(2, 2, 3)\n",
            "3\n"
          ]
        }
      ]
    },
    {
      "cell_type": "code",
      "source": [
        "temp_arr = np.array([1,2,3,4],ndmin = 2)\n",
        "print(temp_arr)\n",
        "print(type(temp_arr))\n",
        "print(temp_arr.shape)\n",
        "print(temp_arr.ndim)"
      ],
      "metadata": {
        "colab": {
          "base_uri": "https://localhost:8080/"
        },
        "id": "XtuSXhkDbBl3",
        "outputId": "e974e468-fa39-47e1-df44-5f0b94d31562"
      },
      "execution_count": null,
      "outputs": [
        {
          "output_type": "stream",
          "name": "stdout",
          "text": [
            "[[1 2 3 4]]\n",
            "<class 'numpy.ndarray'>\n",
            "(1, 4)\n",
            "2\n"
          ]
        }
      ]
    },
    {
      "cell_type": "markdown",
      "source": [
        "## 소수점 정렬"
      ],
      "metadata": {
        "id": "P2N-oECjb9jN"
      }
    },
    {
      "cell_type": "code",
      "source": [
        "temp_arr = np.trunc([-1.23,1.23])\n",
        "temp_arr"
      ],
      "metadata": {
        "colab": {
          "base_uri": "https://localhost:8080/"
        },
        "id": "5VCin1ztb_yw",
        "outputId": "89032c63-7f54-4f73-c9bc-2af1d81ce943"
      },
      "execution_count": null,
      "outputs": [
        {
          "output_type": "execute_result",
          "data": {
            "text/plain": [
              "array([-1.,  1.])"
            ]
          },
          "metadata": {},
          "execution_count": 33
        }
      ]
    },
    {
      "cell_type": "code",
      "source": [
        "temp_arr = np.fix([-1.23,1.23])\n",
        "temp_arr"
      ],
      "metadata": {
        "colab": {
          "base_uri": "https://localhost:8080/"
        },
        "id": "4Dtr6D_YcPDp",
        "outputId": "aacd7cf7-8cdc-4f1c-e33e-73dd5f7c84ff"
      },
      "execution_count": null,
      "outputs": [
        {
          "output_type": "execute_result",
          "data": {
            "text/plain": [
              "array([-1.,  1.])"
            ]
          },
          "metadata": {},
          "execution_count": 34
        }
      ]
    },
    {
      "cell_type": "code",
      "source": [
        "temp_arr = np.around([-1.23789,1.23789],4)\n",
        "temp_arr"
      ],
      "metadata": {
        "colab": {
          "base_uri": "https://localhost:8080/"
        },
        "id": "LMAzZaAEcXSQ",
        "outputId": "195f349f-3c96-416f-c3aa-5f374724bd98"
      },
      "execution_count": null,
      "outputs": [
        {
          "output_type": "execute_result",
          "data": {
            "text/plain": [
              "array([-1.2379,  1.2379])"
            ]
          },
          "metadata": {},
          "execution_count": 39
        }
      ]
    },
    {
      "cell_type": "code",
      "source": [
        "temp_arr = np.round([-1.23789,1.23789],4)\n",
        "temp_arr"
      ],
      "metadata": {
        "colab": {
          "base_uri": "https://localhost:8080/"
        },
        "id": "0B4QkQ64ca8u",
        "outputId": "46cd5055-0e0f-4340-fd9f-0665cfdbf1c4"
      },
      "execution_count": null,
      "outputs": [
        {
          "output_type": "execute_result",
          "data": {
            "text/plain": [
              "array([-1.2379,  1.2379])"
            ]
          },
          "metadata": {},
          "execution_count": 35
        }
      ]
    },
    {
      "cell_type": "code",
      "source": [
        "temp_arr = np.floor([-1.23789,1.23789])\n",
        "temp_arr"
      ],
      "metadata": {
        "colab": {
          "base_uri": "https://localhost:8080/"
        },
        "id": "nUl86W9AcsR9",
        "outputId": "25e21f9d-5bb8-4d98-b649-e50e574c6d21"
      },
      "execution_count": null,
      "outputs": [
        {
          "output_type": "execute_result",
          "data": {
            "text/plain": [
              "array([-2.,  1.])"
            ]
          },
          "metadata": {},
          "execution_count": 37
        }
      ]
    },
    {
      "cell_type": "code",
      "source": [
        "temp_arr = np.ceil([-1.23789,1.23789])\n",
        "temp_arr"
      ],
      "metadata": {
        "colab": {
          "base_uri": "https://localhost:8080/"
        },
        "id": "FNxw3-IBcxQ3",
        "outputId": "e88b4670-1ef7-45b1-8261-b12428de3fa0"
      },
      "execution_count": null,
      "outputs": [
        {
          "output_type": "execute_result",
          "data": {
            "text/plain": [
              "array([-1.,  2.])"
            ]
          },
          "metadata": {},
          "execution_count": 38
        }
      ]
    },
    {
      "cell_type": "markdown",
      "source": [
        "# 배열을 생성하는 다양한 방법들"
      ],
      "metadata": {
        "id": "g4RvqVYJixWI"
      }
    },
    {
      "cell_type": "code",
      "source": [
        "temp_arr = np.arange(5)\n",
        "temp_arr"
      ],
      "metadata": {
        "colab": {
          "base_uri": "https://localhost:8080/"
        },
        "id": "Frsr3kqfissM",
        "outputId": "708566a1-6187-4d5a-d0f2-c821dde00d0d"
      },
      "execution_count": null,
      "outputs": [
        {
          "output_type": "execute_result",
          "data": {
            "text/plain": [
              "array([0, 1, 2, 3, 4])"
            ]
          },
          "metadata": {},
          "execution_count": 40
        }
      ]
    },
    {
      "cell_type": "code",
      "source": [
        "temp_arr = np.arange(1,9,3)\n",
        "temp_arr"
      ],
      "metadata": {
        "colab": {
          "base_uri": "https://localhost:8080/"
        },
        "id": "f4DUpqoCjDpS",
        "outputId": "baf8449a-d481-455e-c925-a6a551d7c5bc"
      },
      "execution_count": null,
      "outputs": [
        {
          "output_type": "execute_result",
          "data": {
            "text/plain": [
              "array([1, 4, 7])"
            ]
          },
          "metadata": {},
          "execution_count": 41
        }
      ]
    },
    {
      "cell_type": "code",
      "source": [
        "zero_arr = np.zeros((2,3))\n",
        "print(zero_arr)\n",
        "print(type(zero_arr))\n",
        "print(zero_arr.shape)\n",
        "print(zero_arr.ndim)\n",
        "print(zero_arr.dtype)"
      ],
      "metadata": {
        "colab": {
          "base_uri": "https://localhost:8080/"
        },
        "id": "QWz0AUMfjTNI",
        "outputId": "c78fda05-abde-46a2-ecd3-1d7752ed5631"
      },
      "execution_count": null,
      "outputs": [
        {
          "output_type": "stream",
          "name": "stdout",
          "text": [
            "[[0. 0. 0.]\n",
            " [0. 0. 0.]]\n",
            "<class 'numpy.ndarray'>\n",
            "(2, 3)\n",
            "2\n",
            "float64\n"
          ]
        }
      ]
    },
    {
      "cell_type": "code",
      "source": [
        "temp_arr = np.ones((4,5), dtype = \"int32\")\n",
        "print(temp_arr)\n",
        "print(type(temp_arr))\n",
        "print(temp_arr.shape)\n",
        "print(temp_arr.ndim)\n",
        "print(temp_arr.dtype)"
      ],
      "metadata": {
        "colab": {
          "base_uri": "https://localhost:8080/"
        },
        "id": "mCbTY4pekfSw",
        "outputId": "3eee7045-b172-45ae-a179-6afb5d05652f"
      },
      "execution_count": null,
      "outputs": [
        {
          "output_type": "stream",
          "name": "stdout",
          "text": [
            "[[1 1 1 1 1]\n",
            " [1 1 1 1 1]\n",
            " [1 1 1 1 1]\n",
            " [1 1 1 1 1]]\n",
            "<class 'numpy.ndarray'>\n",
            "(4, 5)\n",
            "2\n",
            "int32\n"
          ]
        }
      ]
    },
    {
      "cell_type": "code",
      "source": [
        "temp_arr = np.ones((12, 12), dtype=\"int32\")\n",
        "temp_res_arr = temp_arr.reshape(8, -1)\n",
        "print(temp_res_arr)\n",
        "print(type(temp_res_arr))\n",
        "print(temp_res_arr.shape)\n",
        "print(temp_res_arr.ndim)\n",
        "print(temp_res_arr.dtype)"
      ],
      "metadata": {
        "colab": {
          "base_uri": "https://localhost:8080/"
        },
        "id": "PpZb1pNolBKY",
        "outputId": "ead78a3c-52a3-41be-b714-125cf4d4bcc9"
      },
      "execution_count": null,
      "outputs": [
        {
          "output_type": "stream",
          "name": "stdout",
          "text": [
            "[[1 1 1 1 1 1 1 1 1 1 1 1 1 1 1 1 1 1]\n",
            " [1 1 1 1 1 1 1 1 1 1 1 1 1 1 1 1 1 1]\n",
            " [1 1 1 1 1 1 1 1 1 1 1 1 1 1 1 1 1 1]\n",
            " [1 1 1 1 1 1 1 1 1 1 1 1 1 1 1 1 1 1]\n",
            " [1 1 1 1 1 1 1 1 1 1 1 1 1 1 1 1 1 1]\n",
            " [1 1 1 1 1 1 1 1 1 1 1 1 1 1 1 1 1 1]\n",
            " [1 1 1 1 1 1 1 1 1 1 1 1 1 1 1 1 1 1]\n",
            " [1 1 1 1 1 1 1 1 1 1 1 1 1 1 1 1 1 1]]\n",
            "<class 'numpy.ndarray'>\n",
            "(8, 18)\n",
            "2\n",
            "int32\n"
          ]
        }
      ]
    },
    {
      "cell_type": "markdown",
      "source": [
        "# numpy 조건식"
      ],
      "metadata": {
        "id": "bkJ7zfDbm8BK"
      }
    },
    {
      "cell_type": "code",
      "source": [
        "temp_arr = np.arange(10)\n",
        "temp_arr"
      ],
      "metadata": {
        "colab": {
          "base_uri": "https://localhost:8080/"
        },
        "id": "Z6RA1ldTm_43",
        "outputId": "b28af0dc-40b4-4069-ed52-33ded378c069"
      },
      "execution_count": null,
      "outputs": [
        {
          "output_type": "execute_result",
          "data": {
            "text/plain": [
              "array([0, 1, 2, 3, 4, 5, 6, 7, 8, 9])"
            ]
          },
          "metadata": {},
          "execution_count": 52
        }
      ]
    },
    {
      "cell_type": "code",
      "source": [
        "# 5보다 작은 값은 원래값으로 반환\n",
        "# 5보다 큰 값은 원래 값 *10\n",
        "np.where(temp_arr < 5, temp_arr, temp_arr * 10)"
      ],
      "metadata": {
        "colab": {
          "base_uri": "https://localhost:8080/"
        },
        "id": "-Iy_qLzPnPG6",
        "outputId": "0e5afd8d-94fa-4fb1-a2cc-edc9a32456e5"
      },
      "execution_count": null,
      "outputs": [
        {
          "output_type": "execute_result",
          "data": {
            "text/plain": [
              "array([ 0,  1,  2,  3,  4, 50, 60, 70, 80, 90])"
            ]
          },
          "metadata": {},
          "execution_count": 53
        }
      ]
    },
    {
      "cell_type": "code",
      "source": [
        "temp_arr = np.arange(101)\n",
        "np.where(temp_arr < 50, temp_arr *10,temp_arr)"
      ],
      "metadata": {
        "colab": {
          "base_uri": "https://localhost:8080/"
        },
        "id": "ESpxu2kTneoo",
        "outputId": "7e9aa767-9f09-4a4c-8ca2-5d54a2bde538"
      },
      "execution_count": null,
      "outputs": [
        {
          "output_type": "execute_result",
          "data": {
            "text/plain": [
              "array([  0,  10,  20,  30,  40,  50,  60,  70,  80,  90, 100, 110, 120,\n",
              "       130, 140, 150, 160, 170, 180, 190, 200, 210, 220, 230, 240, 250,\n",
              "       260, 270, 280, 290, 300, 310, 320, 330, 340, 350, 360, 370, 380,\n",
              "       390, 400, 410, 420, 430, 440, 450, 460, 470, 480, 490,  50,  51,\n",
              "        52,  53,  54,  55,  56,  57,  58,  59,  60,  61,  62,  63,  64,\n",
              "        65,  66,  67,  68,  69,  70,  71,  72,  73,  74,  75,  76,  77,\n",
              "        78,  79,  80,  81,  82,  83,  84,  85,  86,  87,  88,  89,  90,\n",
              "        91,  92,  93,  94,  95,  96,  97,  98,  99, 100])"
            ]
          },
          "metadata": {},
          "execution_count": 55
        }
      ]
    },
    {
      "cell_type": "markdown",
      "source": [
        "- np.select"
      ],
      "metadata": {
        "id": "pdHjdVSooyWa"
      }
    },
    {
      "cell_type": "code",
      "source": [
        "temp_arr = np.arange(10)\n",
        "temp_arr\n",
        "# 5보다 크면 곱하기 2, 2보다 작은 값은 더하기 100"
      ],
      "metadata": {
        "colab": {
          "base_uri": "https://localhost:8080/"
        },
        "id": "-wfDUbaGozuH",
        "outputId": "43831562-71d0-472b-9bd3-57e08ab5f347"
      },
      "execution_count": null,
      "outputs": [
        {
          "output_type": "execute_result",
          "data": {
            "text/plain": [
              "array([0, 1, 2, 3, 4, 5, 6, 7, 8, 9])"
            ]
          },
          "metadata": {},
          "execution_count": 62
        }
      ]
    },
    {
      "cell_type": "code",
      "source": [
        "condist = [temp_arr>5,temp_arr<2]\n",
        "choielist=[temp_arr*2,temp_arr+100]\n",
        "np.select(condist,choielist, default = temp_arr)"
      ],
      "metadata": {
        "colab": {
          "base_uri": "https://localhost:8080/"
        },
        "id": "DtcrhkqDpPpv",
        "outputId": "f6237f25-8b97-42ce-d2d5-aa7042cad827"
      },
      "execution_count": null,
      "outputs": [
        {
          "output_type": "execute_result",
          "data": {
            "text/plain": [
              "array([100, 101,   2,   3,   4,   5,  12,  14,  16,  18])"
            ]
          },
          "metadata": {},
          "execution_count": 63
        }
      ]
    }
  ]
}