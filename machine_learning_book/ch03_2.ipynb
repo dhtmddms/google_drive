{
  "nbformat": 4,
  "nbformat_minor": 0,
  "metadata": {
    "colab": {
      "name": "ch03-2.ipynb",
      "provenance": [],
      "collapsed_sections": [],
      "authorship_tag": "ABX9TyPZgXCDxTKmQovzkbEelyAH",
      "include_colab_link": true
    },
    "kernelspec": {
      "name": "python3",
      "display_name": "Python 3"
    },
    "language_info": {
      "name": "python"
    }
  },
  "cells": [
    {
      "cell_type": "markdown",
      "metadata": {
        "id": "view-in-github",
        "colab_type": "text"
      },
      "source": [
        "<a href=\"https://colab.research.google.com/github/dhtmddms/google_drive/blob/main/machine_learning_book/ch03_2.ipynb\" target=\"_parent\"><img src=\"https://colab.research.google.com/assets/colab-badge.svg\" alt=\"Open In Colab\"/></a>"
      ]
    },
    {
      "cell_type": "markdown",
      "source": [
        "# 데이터 준비 "
      ],
      "metadata": {
        "id": "doAUhwXXNX5-"
      }
    },
    {
      "cell_type": "code",
      "execution_count": null,
      "metadata": {
        "id": "U9VTl06jNGv0"
      },
      "outputs": [],
      "source": [
        "import numpy as np\n",
        "perch_length = np.array(\n",
        "    [8.4, 13.7, 15.0, 16.2, 17.4, 18.0, 18.7, 19.0, 19.6, 20.0, \n",
        "     21.0, 21.0, 21.0, 21.3, 22.0, 22.0, 22.0, 22.0, 22.0, 22.5, \n",
        "     22.5, 22.7, 23.0, 23.5, 24.0, 24.0, 24.6, 25.0, 25.6, 26.5, \n",
        "     27.3, 27.5, 27.5, 27.5, 28.0, 28.7, 30.0, 32.8, 34.5, 35.0, \n",
        "     36.5, 36.0, 37.0, 37.0, 39.0, 39.0, 39.0, 40.0, 40.0, 40.0, \n",
        "     40.0, 42.0, 43.0, 43.0, 43.5, 44.0]\n",
        "     )\n",
        "perch_weight = np.array(\n",
        "    [5.9, 32.0, 40.0, 51.5, 70.0, 100.0, 78.0, 80.0, 85.0, 85.0, \n",
        "     110.0, 115.0, 125.0, 130.0, 120.0, 120.0, 130.0, 135.0, 110.0, \n",
        "     130.0, 150.0, 145.0, 150.0, 170.0, 225.0, 145.0, 188.0, 180.0, \n",
        "     197.0, 218.0, 300.0, 260.0, 265.0, 250.0, 250.0, 300.0, 320.0, \n",
        "     514.0, 556.0, 840.0, 685.0, 700.0, 700.0, 690.0, 900.0, 650.0, \n",
        "     820.0, 850.0, 900.0, 1015.0, 820.0, 1100.0, 1000.0, 1100.0, \n",
        "     1000.0, 1000.0]\n",
        "     )"
      ]
    },
    {
      "cell_type": "markdown",
      "source": [
        "# 훈련세트와 테스트데이터셋 분리 "
      ],
      "metadata": {
        "id": "rSNGnoOGNhq2"
      }
    },
    {
      "cell_type": "code",
      "source": [
        "from sklearn.model_selection import train_test_split\n",
        "train_input, test_input, train_target, test_target = train_test_split(\n",
        "    perch_length, perch_weight, random_state = 42\n",
        "    )\n",
        "train_input.shape, train_target.shape, test_input.shape, test_target.shape"
      ],
      "metadata": {
        "colab": {
          "base_uri": "https://localhost:8080/"
        },
        "id": "mnEJFFXFNauP",
        "outputId": "fd33a763-aec3-4f71-ce92-f8324f98ccbe"
      },
      "execution_count": null,
      "outputs": [
        {
          "output_type": "execute_result",
          "data": {
            "text/plain": [
              "((42,), (42,), (14,), (14,))"
            ]
          },
          "metadata": {},
          "execution_count": 5
        }
      ]
    },
    {
      "cell_type": "markdown",
      "source": [
        "- reshape() 사용하여 2차원 배열로 바꾸기"
      ],
      "metadata": {
        "id": "pOoSTrD3NnTH"
      }
    },
    {
      "cell_type": "code",
      "source": [
        "train_input = train_input.reshape(-1,1)\n",
        "test_input = test_input.reshape(-1,1)\n",
        "print(train_input.shape,test_input.shape)"
      ],
      "metadata": {
        "colab": {
          "base_uri": "https://localhost:8080/"
        },
        "id": "dDpzuMoLNlI3",
        "outputId": "f6861e3c-b5f6-4b72-c1b4-e26d8142ed4b"
      },
      "execution_count": null,
      "outputs": [
        {
          "output_type": "stream",
          "name": "stdout",
          "text": [
            "(42, 1) (14, 1)\n"
          ]
        }
      ]
    },
    {
      "cell_type": "markdown",
      "source": [
        "# 모델 만들기"
      ],
      "metadata": {
        "id": "CypO9dPENq0p"
      }
    },
    {
      "cell_type": "code",
      "source": [
        "from sklearn.neighbors import KNeighborsRegressor\n",
        "\n",
        "# knn클래스 불러오기\n",
        "knr = KNeighborsRegressor(n_neighbors=3)\n",
        "\n",
        "# 모형 학습\n",
        "knr.fit(train_input, train_target)"
      ],
      "metadata": {
        "colab": {
          "base_uri": "https://localhost:8080/"
        },
        "id": "jE9sZISUNsLP",
        "outputId": "2d95f193-0572-49f1-f19c-ae3b9fbd96ea"
      },
      "execution_count": null,
      "outputs": [
        {
          "output_type": "execute_result",
          "data": {
            "text/plain": [
              "KNeighborsRegressor(n_neighbors=3)"
            ]
          },
          "metadata": {},
          "execution_count": 7
        }
      ]
    },
    {
      "cell_type": "markdown",
      "source": [
        "# 예측\n",
        "- p 132"
      ],
      "metadata": {
        "id": "b0B7R3ksN9IY"
      }
    },
    {
      "cell_type": "code",
      "source": [
        "print(knr.predict([[50]]))"
      ],
      "metadata": {
        "colab": {
          "base_uri": "https://localhost:8080/"
        },
        "id": "6ljCTeAWOCTf",
        "outputId": "47c75941-0f85-4fcc-f0bf-d48adfdec00a"
      },
      "execution_count": null,
      "outputs": [
        {
          "output_type": "stream",
          "name": "stdout",
          "text": [
            "[1033.33333333]\n"
          ]
        }
      ]
    },
    {
      "cell_type": "markdown",
      "source": [
        "# 시각화\n",
        "- [과제] 객체 지향으로 변경하기"
      ],
      "metadata": {
        "id": "RjVgknj4OqK_"
      }
    },
    {
      "cell_type": "code",
      "source": [
        "import matplotlib.pyplot as plt\n",
        "\n",
        "# 50cm농어의 이웃을 구하라\n",
        "distances, indexes = knr.kneighbors([[50]])\n",
        "\n",
        "# 훈련세트의 산점도를 구하라\n",
        "fig, ax = plt.subplots()\n",
        "ax.scatter(train_input, train_target)\n",
        "ax.scatter(train_input[indexes], train_target[indexes], marker = 'D')\n",
        "ax.scatter( 50, 1033, marker='^')\n",
        "plt.show()"
      ],
      "metadata": {
        "colab": {
          "base_uri": "https://localhost:8080/",
          "height": 265
        },
        "id": "1P6gZP0AOmyw",
        "outputId": "bf1936d0-7ec5-477a-b46b-1f41f907a27e"
      },
      "execution_count": null,
      "outputs": [
        {
          "output_type": "display_data",
          "data": {
            "text/plain": [
              "<Figure size 432x288 with 1 Axes>"
            ],
            "image/png": "[encoded data removed]"
          },
          "metadata": {
            "needs_background": "light"
          }
        }
      ]
    },
    {
      "cell_type": "markdown",
      "source": [
        "- 머신러닝 모델은 주기적으로 훈련해야 합니다.\n",
        "  + MLOps(Machine Learning &O perations) \n",
        "  + 최근에 각광받는 데이터 관련 직업 필수 스킬\n",
        "  + 입사와 함께 공부시작(데이터 분석가, 머신러닝 엔지니어, 데이터 싸이언티스트 희망자)"
      ],
      "metadata": {
        "id": "ZKCyzCuWUuLS"
      }
    },
    {
      "cell_type": "markdown",
      "source": [
        "# 선형회귀(통계)\n",
        "- 5가지의 가정들...\n",
        "- 잔차의 정규성\n",
        "- 등분산성, 다중공선성 ....\n",
        "- 종속변수 ~ 독립변수 간의 '인과관계/를 찾는 과정"
      ],
      "metadata": {
        "id": "YFbBoXJLVOvc"
      }
    },
    {
      "cell_type": "markdown",
      "source": [
        "# 선형회귀(머신러닝)\n",
        "- R2 점수, MAE, MSE... 같은 평가지표 확인이 더 중요\n",
        "- 5가지의 가정들...\n",
        "- 잔차의 정규성\n",
        "- 등분산성, 다중공선성 ....\n",
        "- 종속변수 ~ 독립변수 간의 '인과관계/를 찾는 과정"
      ],
      "metadata": {
        "id": "onvSAGiNVuQb"
      }
    },
    {
      "cell_type": "code",
      "source": [
        "from sklearn.linear_model import LinearRegression\n",
        "\n",
        "lr = LinearRegression()\n",
        "\n",
        "# 선형 회귀 모델 훈련\n",
        "lr.fit(train_input, train_target)\n",
        "\n",
        "# 50cm 농어 예측\n",
        "print(lr.predict([[50]]))"
      ],
      "metadata": {
        "colab": {
          "base_uri": "https://localhost:8080/"
        },
        "id": "4wgUxV4TS8fR",
        "outputId": "edf0b4a0-0818-4fb9-cfee-124e1c2bda9b"
      },
      "execution_count": null,
      "outputs": [
        {
          "output_type": "stream",
          "name": "stdout",
          "text": [
            "[1241.83860323]\n"
          ]
        }
      ]
    },
    {
      "cell_type": "code",
      "source": [
        "fig, ax = plt.subplots()\n",
        "ax.scatter(train_input[indexes], train_target[indexes], marker = 'D')\n",
        "ax.scatter( 50, 1241, marker='^')\n",
        "plt.show()"
      ],
      "metadata": {
        "colab": {
          "base_uri": "https://localhost:8080/",
          "height": 267
        },
        "id": "lzr7kPTNXMBU",
        "outputId": "c6f7e38b-f4c1-41fc-df24-a6977457d8c7"
      },
      "execution_count": null,
      "outputs": [
        {
          "output_type": "display_data",
          "data": {
            "text/plain": [
              "<Figure size 432x288 with 1 Axes>"
            ],
            "image/png": "[encoded data removed]"
          },
          "metadata": {
            "needs_background": "light"
          }
        }
      ]
    },
    {
      "cell_type": "markdown",
      "source": [
        "# 회귀식을 찾기"
      ],
      "metadata": {
        "id": "czTICfg8Xlk-"
      }
    },
    {
      "cell_type": "code",
      "source": [
        "# 기울기, 상수\n",
        "print(lr.coef_,lr.intercept_)"
      ],
      "metadata": {
        "colab": {
          "base_uri": "https://localhost:8080/"
        },
        "id": "w9XGDHpnYo8O",
        "outputId": "432e1451-6d22-49eb-c95c-fd0ba95c7c13"
      },
      "execution_count": null,
      "outputs": [
        {
          "output_type": "stream",
          "name": "stdout",
          "text": [
            "[39.01714496] -709.0186449535477\n"
          ]
        }
      ]
    },
    {
      "cell_type": "markdown",
      "source": [
        "- **기울기** : 계수, 가중치 (딥러닝)"
      ],
      "metadata": {
        "id": "aDnf5VGRYopG"
      }
    },
    {
      "cell_type": "code",
      "source": [
        "fig, ax = plt.subplots()\n",
        "ax.scatter(train_input, train_target)\n",
        "\n",
        "# 15~50까지의 1차 방정식 그래프를 그린다. \n",
        "ax.plot([15, 50], \n",
        "         [15 * lr.coef_ + lr.intercept_, \n",
        "          50 * lr.coef_ + lr.intercept_])\n",
        "\n",
        "ax.scatter(50, 1241.8, marker='^')\n",
        "\n",
        "plt.show()"
      ],
      "metadata": {
        "colab": {
          "base_uri": "https://localhost:8080/",
          "height": 265
        },
        "id": "1X3DO2-KZuWd",
        "outputId": "6838158c-6db3-4220-fd62-7cc49a12c1a3"
      },
      "execution_count": null,
      "outputs": [
        {
          "output_type": "display_data",
          "data": {
            "text/plain": [
              "<Figure size 432x288 with 1 Axes>"
            ],
            "image/png": "[encoded data removed]"
          },
          "metadata": {
            "needs_background": "light"
          }
        }
      ]
    },
    {
      "cell_type": "markdown",
      "source": [
        "- 모형 평가(138p)\n",
        "  + 과소적합이 됨\n"
      ],
      "metadata": {
        "id": "cLGp5KExaqAe"
      }
    },
    {
      "cell_type": "markdown",
      "source": [
        "# 다항회귀의 필요성\n",
        "- 치어를 생각해보자\n",
        "- 치아가 1cm "
      ],
      "metadata": {
        "id": "JWS9Jd7MbExe"
      }
    },
    {
      "cell_type": "code",
      "source": [
        "print(lr.predict([[1]]))"
      ],
      "metadata": {
        "colab": {
          "base_uri": "https://localhost:8080/"
        },
        "id": "cSYghdodbRM2",
        "outputId": "5b045236-ab42-47fc-c85b-35d548acdb31"
      },
      "execution_count": null,
      "outputs": [
        {
          "output_type": "stream",
          "name": "stdout",
          "text": [
            "[-670.00149999]\n"
          ]
        }
      ]
    },
    {
      "cell_type": "markdown",
      "source": [
        "- p 140, 1차 방정식을 2차 방정식으로 만드는 과정이 나옴\n",
        "- 넘파이 브로드캐스팅\n",
        "  + 배열의 크기가 동일하면 상관없음\n",
        "  + 배열의 크기가 다른데, 연산을 할 때, 브로드캐스팅 원리가 저용\n",
        "  + 브로드캐스팅 튜토리얼 공부 필요"
      ],
      "metadata": {
        "id": "Kns1cbl5cOd_"
      }
    },
    {
      "cell_type": "code",
      "source": [
        "train_poly = np.column_stack((train_input**2, train_input))\n",
        "test_poly = np.column_stack((test_input**2, test_input))\n",
        "print(train_poly.shape,test_poly.shape)"
      ],
      "metadata": {
        "colab": {
          "base_uri": "https://localhost:8080/"
        },
        "id": "2G_GNDH4cxbQ",
        "outputId": "fa2265e4-09ee-4f4a-d39e-29a5340350df"
      },
      "execution_count": null,
      "outputs": [
        {
          "output_type": "stream",
          "name": "stdout",
          "text": [
            "(42, 2) (14, 2)\n"
          ]
        }
      ]
    },
    {
      "cell_type": "code",
      "source": [
        "lr = LinearRegression()\n",
        "lr.fit(train_poly, train_target)\n",
        "print(lr.predict([[50**2,50]]))"
      ],
      "metadata": {
        "colab": {
          "base_uri": "https://localhost:8080/"
        },
        "id": "FKzCwkxVdRs4",
        "outputId": "79bc8a21-1f55-404f-f2f6-47724931a695"
      },
      "execution_count": null,
      "outputs": [
        {
          "output_type": "stream",
          "name": "stdout",
          "text": [
            "[1573.98423528]\n"
          ]
        }
      ]
    },
    {
      "cell_type": "code",
      "source": [
        "print(lr.coef_,lr.intercept_)"
      ],
      "metadata": {
        "colab": {
          "base_uri": "https://localhost:8080/"
        },
        "id": "HK8rb2vDdZ7X",
        "outputId": "b773c254-c207-499c-d0ec-dde3c786119e"
      },
      "execution_count": null,
      "outputs": [
        {
          "output_type": "stream",
          "name": "stdout",
          "text": [
            "[  1.01433211 -21.55792498] 116.0502107827827\n"
          ]
        }
      ]
    },
    {
      "cell_type": "markdown",
      "source": [
        "# 요약\n",
        "- KNN 의 문제점\n",
        "  + 농어의 길이가 커져도 무게는 동일함 (현실성 제로)\n",
        "- 단순 선형회귀의 문제점\n",
        "  + 치어(1cm)의 무게가 음수로 나옴(현실성 제로)\n",
        "- 다항 회귀(2차 방정식)로 변경\n",
        "  + 현실성 있음"
      ],
      "metadata": {
        "id": "jp5E1ztAd6jQ"
      }
    }
  ]
}