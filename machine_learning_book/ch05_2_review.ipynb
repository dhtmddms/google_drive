{
  "nbformat": 4,
  "nbformat_minor": 0,
  "metadata": {
    "colab": {
      "name": "ch05_2_review.ipynb",
      "provenance": [],
      "collapsed_sections": [],
      "authorship_tag": "ABX9TyP96Jwa5GkisgqQM3qsIZDf",
      "include_colab_link": true
    },
    "kernelspec": {
      "name": "python3",
      "display_name": "Python 3"
    },
    "language_info": {
      "name": "python"
    }
  },
  "cells": [
    {
      "cell_type": "markdown",
      "metadata": {
        "id": "view-in-github",
        "colab_type": "text"
      },
      "source": [
        "<a href=\"https://colab.research.google.com/github/dhtmddms/google_drive/blob/main/machine_learning_book/ch05_2_review.ipynb\" target=\"_parent\"><img src=\"https://colab.research.google.com/assets/colab-badge.svg\" alt=\"Open In Colab\"/></a>"
      ]
    },
    {
      "cell_type": "markdown",
      "source": [
        "# 교차 검증과 그리드 서치"
      ],
      "metadata": {
        "id": "xxXwcwxzzFwV"
      }
    },
    {
      "cell_type": "markdown",
      "source": [
        "# 교차 검증이란\n",
        "- 보통은 train set으로 모델을 훈련, test set으로 모델을 검증\n",
        "- 이 과정을 반복하다보면, test set에 과적합하게 되므로, 실제 데이터로 예측을 수행하면 결과가 엉망으로 나올 수 있다\n",
        "- 따라 이를 해결하고자 교차 검증을 수행\n",
        "  + 보통 훈련 세트 60%, 검증 세트 20%, 테스트 세트 20% 로 나눔\n",
        "\n",
        "- 장점\n",
        "  + 정확도 향상, 데이터부족으로 인한 과소적합을 방지\n",
        "  + 데이터 편중을 억제, 일반화된 모델 \n",
        "- 단점\n",
        "  + iteration 횟수가 많아 시간이 오래 걸림\n",
        "\n",
        "출처:https://wooono.tistory.com/105"
      ],
      "metadata": {
        "id": "f_IK8VV-zxPc"
      }
    },
    {
      "cell_type": "markdown",
      "source": [
        "# 데이터 준비"
      ],
      "metadata": {
        "id": "HvDHOwAA1lsu"
      }
    },
    {
      "cell_type": "code",
      "execution_count": null,
      "metadata": {
        "id": "IWWUiSVezAIp"
      },
      "outputs": [],
      "source": [
        "import pandas as pd\n",
        "wine = pd.read_csv('https://bit.ly/wine_csv_data')\n",
        "\n",
        "data = wine[['alcohol','sugar','pH']]\n",
        "target = wine ['class'].to_numpy()"
      ]
    },
    {
      "cell_type": "markdown",
      "source": [
        "# 데이터 분리"
      ],
      "metadata": {
        "id": "te-1wKX81kzd"
      }
    },
    {
      "cell_type": "code",
      "source": [
        "from sklearn.model_selection import train_test_split\n",
        "train_input, test_input, train_target, test_target = train_test_split(\n",
        "    data, target, test_size = 0.2, random_state = 42\n",
        ")"
      ],
      "metadata": {
        "id": "EG6eFw_M1ka9"
      },
      "execution_count": null,
      "outputs": []
    },
    {
      "cell_type": "markdown",
      "source": [
        "- 다시 훈련세트(sub)와 검증세트(val)로 분리"
      ],
      "metadata": {
        "id": "uebgs2TL2Uol"
      }
    },
    {
      "cell_type": "code",
      "source": [
        "sub_input, val_input, sub_target, val_target = train_test_split(\n",
        "    train_input, train_target, test_size = 0.2, random_state = 42\n",
        ")\n",
        "print(sub_input.shape, val_input.shape)\n"
      ],
      "metadata": {
        "colab": {
          "base_uri": "https://localhost:8080/"
        },
        "id": "24Er0dPP2C5t",
        "outputId": "57c28820-8f5a-42d8-a854-08b356dddab2"
      },
      "execution_count": null,
      "outputs": [
        {
          "output_type": "stream",
          "name": "stdout",
          "text": [
            "(4157, 3) (1040, 3)\n"
          ]
        }
      ]
    },
    {
      "cell_type": "markdown",
      "source": [
        "# 결정 트리 모델 훈련"
      ],
      "metadata": {
        "id": "ECPzMKh127NO"
      }
    },
    {
      "cell_type": "code",
      "source": [
        "from sklearn.tree import DecisionTreeClassifier\n",
        "dt = DecisionTreeClassifier(random_state = 42)\n",
        "dt.fit(sub_input, sub_target)\n",
        "print(dt.score(sub_input, sub_target))\n",
        "print(dt.score(val_input, val_target))"
      ],
      "metadata": {
        "colab": {
          "base_uri": "https://localhost:8080/"
        },
        "id": "UUvQTh5S3AOW",
        "outputId": "796345c5-f139-4444-f51d-bfb28b847dd2"
      },
      "execution_count": null,
      "outputs": [
        {
          "output_type": "stream",
          "name": "stdout",
          "text": [
            "0.9971133028626413\n",
            "0.864423076923077\n"
          ]
        }
      ]
    },
    {
      "cell_type": "markdown",
      "source": [
        "- 훈련 세트에 과대적합되어 있음을 확인"
      ],
      "metadata": {
        "id": "44OwCWoI3Yjv"
      }
    },
    {
      "cell_type": "markdown",
      "source": [
        "# 교차검증 수행\n",
        "- 3-폴드 교차 검증\n",
        "  + 훈련세트를 세 부분으로 나누어 교차검증을 수행하는 방식"
      ],
      "metadata": {
        "id": "y6SWCJJX3hXd"
      }
    },
    {
      "cell_type": "code",
      "source": [
        "# 사이킷런의 교차 검증 함수 cross_validate()\n",
        "from sklearn.model_selection import cross_validate\n",
        "scores = cross_validate(dt, train_input, train_target)\n",
        "print(scores)"
      ],
      "metadata": {
        "colab": {
          "base_uri": "https://localhost:8080/"
        },
        "id": "TcUCXOfz2TH9",
        "outputId": "d983a0ba-1126-457a-dffa-ceb0f45fe6f1"
      },
      "execution_count": null,
      "outputs": [
        {
          "output_type": "stream",
          "name": "stdout",
          "text": [
            "{'fit_time': array([0.01388383, 0.01265836, 0.01324296, 0.01289964, 0.01294136]), 'score_time': array([0.00361514, 0.00347805, 0.00329566, 0.00336719, 0.00348496]), 'test_score': array([0.86923077, 0.84615385, 0.87680462, 0.84889317, 0.83541867])}\n"
          ]
        }
      ]
    },
    {
      "cell_type": "markdown",
      "source": [
        "- 최종 점수 평균 구하기"
      ],
      "metadata": {
        "id": "BWTIhZJI4rGH"
      }
    },
    {
      "cell_type": "code",
      "source": [
        "import numpy as np\n",
        "print(np.mean(scores['test_score']))"
      ],
      "metadata": {
        "colab": {
          "base_uri": "https://localhost:8080/"
        },
        "id": "QToOKD0k4u7_",
        "outputId": "edc70d0b-e40e-42ac-855b-c3d817ae60b1"
      },
      "execution_count": null,
      "outputs": [
        {
          "output_type": "stream",
          "name": "stdout",
          "text": [
            "0.855300214703487\n"
          ]
        }
      ]
    },
    {
      "cell_type": "markdown",
      "source": [
        "- cross_validate()는 훈련 데이터를 섞지 않고 폴드를 나눴음\n",
        "- splitter()로 섞어준 후, 10-폴드 교차검증"
      ],
      "metadata": {
        "id": "yss8FdMq48Zv"
      }
    },
    {
      "cell_type": "code",
      "source": [
        "from sklearn.model_selection import StratifiedKFold\n",
        "splitter = StratifiedKFold(n_splits=10, shuffle = True, random_state=42)\n",
        "scores = cross_validate(dt, train_input, train_target, cv=splitter)\n",
        "print(np.mean(scores['test_score']))"
      ],
      "metadata": {
        "colab": {
          "base_uri": "https://localhost:8080/"
        },
        "id": "5Tzn4Kgl5bwH",
        "outputId": "de10ff15-e1ce-4549-d213-87bf05a2ca2f"
      },
      "execution_count": null,
      "outputs": [
        {
          "output_type": "stream",
          "name": "stdout",
          "text": [
            "0.8574181117533719\n"
          ]
        }
      ]
    },
    {
      "cell_type": "markdown",
      "source": [
        "# 하이퍼 파라미터 튜닝\n",
        "- 사용자가 지정해야만 하는 파라미터 = 하이퍼 파라미터\n",
        "- 머신러닝 라이브러리에서 클래스나 매개변수로 표현됨\n",
        "- 라이브러리가 제공하는 기본값을 그대로사용하는 것을 추천"
      ],
      "metadata": {
        "id": "LCS2JL2S6neJ"
      }
    },
    {
      "cell_type": "markdown",
      "source": [
        "- 사이킷런의 GrodSearchCV 클래스는 하이퍼 파라미터 탐색과 교차검증을 한 번에 수행"
      ],
      "metadata": {
        "id": "nyZcwKFY7gLR"
      }
    },
    {
      "cell_type": "code",
      "source": [
        "from sklearn.model_selection import GridSearchCV\n",
        "params = {\n",
        "    'min_impurity_decrease': [0.0001, 0.0002, 0.0003, 0.0004, 0.0005]\n",
        "    }\n",
        "# dt = DecisionTreeClassifier(random_state=42)\n",
        "gs = GridSearchCV(DecisionTreeClassifier(random_state = 42),params,n_jobs=-1)\n",
        "gs.fit(train_input, train_target)"
      ],
      "metadata": {
        "colab": {
          "base_uri": "https://localhost:8080/"
        },
        "id": "EvltxzH87qep",
        "outputId": "65fc0ddf-086c-4008-a76e-ed7ddfbf7f0e"
      },
      "execution_count": null,
      "outputs": [
        {
          "output_type": "execute_result",
          "data": {
            "text/plain": [
              "GridSearchCV(estimator=DecisionTreeClassifier(random_state=42), n_jobs=-1,\n",
              "             param_grid={'min_impurity_decrease': [0.0001, 0.0002, 0.0003,\n",
              "                                                   0.0004, 0.0005]})"
            ]
          },
          "metadata": {},
          "execution_count": 11
        }
      ]
    },
    {
      "cell_type": "markdown",
      "source": [
        "- 검증 점수가 가장 높은 모델의 매개변수 조합으로 전체 훈련세트에서 자동으로 다시 모델을 훈련 -> best_estimator_"
      ],
      "metadata": {
        "id": "mRThrbos7_dX"
      }
    },
    {
      "cell_type": "code",
      "source": [
        "dt = gs.best_estimator_\n",
        "print(dt)\n",
        "print(dt.score(train_input, train_target))"
      ],
      "metadata": {
        "colab": {
          "base_uri": "https://localhost:8080/"
        },
        "id": "H2RlJmf377pZ",
        "outputId": "982fd2d8-bd3c-40a3-b4c1-5da9731cf47c"
      },
      "execution_count": null,
      "outputs": [
        {
          "output_type": "stream",
          "name": "stdout",
          "text": [
            "DecisionTreeClassifier(min_impurity_decrease=0.0001, random_state=42)\n",
            "0.9615162593804117\n"
          ]
        }
      ]
    },
    {
      "cell_type": "markdown",
      "source": [
        "- 그리드 서치로 찾은 최적의 매개변수는 best_params_에 저장되어 있음"
      ],
      "metadata": {
        "id": "u0K4dNpO8SH6"
      }
    },
    {
      "cell_type": "code",
      "source": [
        "print(gs.best_params_)"
      ],
      "metadata": {
        "colab": {
          "base_uri": "https://localhost:8080/"
        },
        "id": "ca0nEBjN8ap5",
        "outputId": "c9b7d881-cf1a-46ea-b869-e8cdd83b364c"
      },
      "execution_count": null,
      "outputs": [
        {
          "output_type": "stream",
          "name": "stdout",
          "text": [
            "{'min_impurity_decrease': 0.0001}\n"
          ]
        }
      ]
    },
    {
      "cell_type": "markdown",
      "source": [
        "- 0.0001 이 가장 좋은 값으로 선택됨"
      ],
      "metadata": {
        "id": "StfVZs6p8zMR"
      }
    },
    {
      "cell_type": "code",
      "source": [
        "print(gs.cv_results_['mean_test_score'])"
      ],
      "metadata": {
        "colab": {
          "base_uri": "https://localhost:8080/"
        },
        "id": "jwbzC2uE8xL5",
        "outputId": "59b116d0-b567-41eb-a9dd-d9098f873676"
      },
      "execution_count": null,
      "outputs": [
        {
          "output_type": "stream",
          "name": "stdout",
          "text": [
            "[0.86819297 0.86453617 0.86492226 0.86780891 0.86761605]\n"
          ]
        }
      ]
    },
    {
      "cell_type": "markdown",
      "source": [
        "# 랜덤 서치\n",
        "- 너무 많은 매개변수 조건이 있거나, 매개변수 값의 범위나 간격을 미리 정하기 어려울 때 유용한 방법\n",
        "- 매개변수를 샘플링할 수 있는 확률분포 객체를 전달"
      ],
      "metadata": {
        "id": "wE8bfmZP9L95"
      }
    },
    {
      "cell_type": "code",
      "source": [
        "# uniform을 실숫값을 뽑고 randint는 정수값을 뽑는 클래스\n",
        "from scipy.stats import uniform, randint\n",
        "\n",
        "rgen = randint(0,10)\n",
        "rgen.rvs(10)"
      ],
      "metadata": {
        "colab": {
          "base_uri": "https://localhost:8080/"
        },
        "id": "PJzQvuh29h4y",
        "outputId": "4d8f9974-023d-405a-da9c-db1daf9564ba"
      },
      "execution_count": null,
      "outputs": [
        {
          "output_type": "execute_result",
          "data": {
            "text/plain": [
              "array([5, 7, 7, 2, 4, 6, 9, 5, 6, 7])"
            ]
          },
          "metadata": {},
          "execution_count": 20
        }
      ]
    },
    {
      "cell_type": "code",
      "source": [
        "np.unique(rgen.rvs(1000), return_counts=True)"
      ],
      "metadata": {
        "colab": {
          "base_uri": "https://localhost:8080/"
        },
        "id": "Nz89cjSU-HZK",
        "outputId": "46b08328-f708-4f2c-e39d-da58a86f5ebd"
      },
      "execution_count": null,
      "outputs": [
        {
          "output_type": "execute_result",
          "data": {
            "text/plain": [
              "(array([0, 1, 2, 3, 4, 5, 6, 7, 8, 9]),\n",
              " array([ 96, 118, 107, 100,  80,  96, 111,  95,  95, 102]))"
            ]
          },
          "metadata": {},
          "execution_count": 19
        }
      ]
    },
    {
      "cell_type": "code",
      "source": [
        "ugen = uniform(0,1)\n",
        "ugen.rvs(10)"
      ],
      "metadata": {
        "colab": {
          "base_uri": "https://localhost:8080/"
        },
        "id": "GNsNp9yd-YUB",
        "outputId": "1b728d19-8654-402d-db5c-ed9ddf131617"
      },
      "execution_count": null,
      "outputs": [
        {
          "output_type": "execute_result",
          "data": {
            "text/plain": [
              "array([0.21258054, 0.69498992, 0.80667633, 0.43501987, 0.90512715,\n",
              "       0.83735911, 0.26769318, 0.48205842, 0.90089121, 0.16716067])"
            ]
          },
          "metadata": {},
          "execution_count": 21
        }
      ]
    },
    {
      "cell_type": "markdown",
      "source": [
        "# 그리드 서치 vs 랜덤 서치 \n",
        "- 그리드 서치\n",
        "  + 하이퍼 파라미터에 넣을 수 있는 값들을 순차적으로 입력한 뒤에 가장 높은 성능을 보이는 하이퍼 파라미터 값을 찾는 방법\n",
        "  + 모델을 학생에 비유, 모의고사를 몇 번 칠지, 몇 번씩 개념을 볼 것인지 등등\n",
        "  + 세부적인 사항들을 일일히 다 적용해봐가면서 어떤 규율이 가장 이 공부법(모델)에 적합한지 판단하는 것\n",
        "  + 단점은 시간이 아주 많이 걸린다는 것\n",
        "\n",
        "- 랜덤 서치\n",
        "  + 하이퍼 파라미터 값을 랜덤하게 넣어보고 그중 우수한 값을 보인 하이퍼 파라미터를 활용해 모델을 생성\n",
        "  + 장점은 불필요한 탐색횟수를 줄인다는 것\n",
        "\n",
        "출처:https://huidea.tistory.com/32"
      ],
      "metadata": {
        "id": "KChwiAmf-ms6"
      }
    }
  ]
}